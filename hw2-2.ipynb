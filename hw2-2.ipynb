{
  "nbformat": 4,
  "nbformat_minor": 0,
  "metadata": {
    "colab": {
      "name": "Untitled3.ipynb",
      "provenance": [],
      "authorship_tag": "ABX9TyOtGVMeknH2HCpzs1OjwtL9",
      "include_colab_link": true
    },
    "kernelspec": {
      "name": "python3",
      "display_name": "Python 3"
    }
  },
  "cells": [
    {
      "cell_type": "markdown",
      "metadata": {
        "id": "view-in-github",
        "colab_type": "text"
      },
      "source": [
        "<a href=\"https://colab.research.google.com/github/soneyahossain/probability_statistics/blob/master/hw2-2.ipynb\" target=\"_parent\"><img src=\"https://colab.research.google.com/assets/colab-badge.svg\" alt=\"Open In Colab\"/></a>"
      ]
    },
    {
      "cell_type": "code",
      "metadata": {
        "id": "dz2L0DWN9SOI",
        "colab_type": "code",
        "colab": {
          "base_uri": "https://localhost:8080/",
          "height": 476
        },
        "outputId": "b00dab48-0ba6-4763-c7b8-78fb2f60e1bb"
      },
      "source": [
        "import math\n",
        "\n",
        "def nCr(n,r):\n",
        " return math.factorial(n) / math.factorial(r) /math.factorial(n-r)\n",
        "\n",
        "for x in range(0,7):\n",
        "  for y in range(1,7):\n",
        "   \n",
        "   if( y>=x):\n",
        "    q=0\n",
        "    for y_ in range(x, 7): \n",
        "      q = q+nCr(y_,x)* pow(2,-y_)\n",
        "\n",
        "    print(\"P(y=\",y,\"|x=\",x,\")=\", round(((nCr(y,x) * pow(2,-y))/q),2))\n"
      ],
      "execution_count": 31,
      "outputs": [
        {
          "output_type": "stream",
          "text": [
            "P(y= 1 |x= 0 )= 0.25\n",
            "P(y= 2 |x= 0 )= 0.13\n",
            "P(y= 3 |x= 0 )= 0.06\n",
            "P(y= 4 |x= 0 )= 0.03\n",
            "P(y= 5 |x= 0 )= 0.02\n",
            "P(y= 6 |x= 0 )= 0.01\n",
            "P(y= 1 |x= 1 )= 0.27\n",
            "P(y= 2 |x= 1 )= 0.27\n",
            "P(y= 3 |x= 1 )= 0.2\n",
            "P(y= 4 |x= 1 )= 0.13\n",
            "P(y= 5 |x= 1 )= 0.08\n",
            "P(y= 6 |x= 1 )= 0.05\n",
            "P(y= 2 |x= 2 )= 0.16\n",
            "P(y= 3 |x= 2 )= 0.24\n",
            "P(y= 4 |x= 2 )= 0.24\n",
            "P(y= 5 |x= 2 )= 0.2\n",
            "P(y= 6 |x= 2 )= 0.15\n",
            "P(y= 3 |x= 3 )= 0.12\n",
            "P(y= 4 |x= 3 )= 0.25\n",
            "P(y= 5 |x= 3 )= 0.31\n",
            "P(y= 6 |x= 3 )= 0.31\n",
            "P(y= 4 |x= 4 )= 0.14\n",
            "P(y= 5 |x= 4 )= 0.34\n",
            "P(y= 6 |x= 4 )= 0.52\n",
            "P(y= 5 |x= 5 )= 0.25\n",
            "P(y= 6 |x= 5 )= 0.75\n",
            "P(y= 6 |x= 6 )= 1.0\n"
          ],
          "name": "stdout"
        }
      ]
    }
  ]
}